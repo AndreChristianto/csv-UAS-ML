{
  "nbformat": 4,
  "nbformat_minor": 0,
  "metadata": {
    "colab": {
      "name": "Experiment.ipynb",
      "provenance": [],
      "collapsed_sections": []
    },
    "kernelspec": {
      "name": "python3",
      "display_name": "Python 3"
    },
    "language_info": {
      "name": "python"
    }
  },
  "cells": [
    {
      "cell_type": "markdown",
      "source": [
        "# 2440023002 - Andreas Christianto"
      ],
      "metadata": {
        "id": "8GxjjWgaOkS4"
      }
    },
    {
      "cell_type": "code",
      "execution_count": 1,
      "metadata": {
        "id": "GUJJGbKRm5la"
      },
      "outputs": [],
      "source": [
        "import pandas as pd\n",
        "import seaborn as sns\n",
        "import matplotlib.pyplot as plt\n",
        "import numpy as np\n",
        "import sklearn.cluster as cluster\n",
        "import sklearn.metrics as metrics\n",
        "\n",
        "from sklearn.model_selection import GridSearchCV\n",
        "from sklearn.preprocessing import StandardScaler\n",
        "from sklearn.pipeline import Pipeline\n",
        "from sklearn.svm import SVC\n",
        "from sklearn.feature_selection import SelectKBest\n",
        "from sklearn.feature_selection import f_classif\n",
        "from scipy import stats\n",
        "from sklearn.model_selection import train_test_split\n",
        "from sklearn.neighbors import KNeighborsClassifier\n",
        "from sklearn.cluster import KMeans\n",
        "from sklearn.metrics import classification_report"
      ]
    },
    {
      "cell_type": "code",
      "source": [
        "url = 'https://raw.githubusercontent.com/AndreChristianto/csv-UAS-ML/main/experiment.csv'\n",
        "df = pd.read_csv(url)"
      ],
      "metadata": {
        "id": "TUE6fNRmm8CY"
      },
      "execution_count": 2,
      "outputs": []
    },
    {
      "cell_type": "code",
      "source": [
        "df.isna().any()"
      ],
      "metadata": {
        "colab": {
          "base_uri": "https://localhost:8080/"
        },
        "id": "j4OJezh3nQGK",
        "outputId": "6e82b6a4-fb2c-408a-a8c9-76ec3fd9a054"
      },
      "execution_count": 3,
      "outputs": [
        {
          "output_type": "execute_result",
          "data": {
            "text/plain": [
              "F1       False\n",
              "F2       False\n",
              "F3       False\n",
              "F4       False\n",
              "F5       False\n",
              "         ...  \n",
              "F197     False\n",
              "F198     False\n",
              "F199     False\n",
              "F200     False\n",
              "Class    False\n",
              "Length: 201, dtype: bool"
            ]
          },
          "metadata": {},
          "execution_count": 3
        }
      ]
    },
    {
      "cell_type": "code",
      "source": [
        "df = df.dropna()"
      ],
      "metadata": {
        "id": "o3IpXkSdrP_I"
      },
      "execution_count": 4,
      "outputs": []
    },
    {
      "cell_type": "markdown",
      "source": [
        "## Visualization"
      ],
      "metadata": {
        "id": "_P96IV4bpckg"
      }
    },
    {
      "cell_type": "code",
      "source": [
        "print(df.head)\n",
        "\n",
        "plt.figure(figsize=(25, 8))\n",
        "\n",
        "df.hist()\n",
        "plt.subplots_adjust(hspace = 1, wspace = 1)\n",
        "plt.rcParams[\"figure.figsize\"] = [32, 18]\n",
        "plt.show()"
      ],
      "metadata": {
        "colab": {
          "base_uri": "https://localhost:8080/",
          "height": 729
        },
        "id": "OUqOZiP12SSZ",
        "outputId": "6ee2c907-59e1-44aa-daaa-986b9d80a59b"
      },
      "execution_count": null,
      "outputs": [
        {
          "output_type": "stream",
          "name": "stdout",
          "text": [
            "<bound method NDFrame.head of             F1        F2        F3        F4   F5        F6        F7  \\\n",
            "0     0.006711  0.000000  0.013423  0.006711  0.0  0.006711  0.006711   \n",
            "1     0.000000  0.000000  0.000000  0.007246  0.0  0.000000  0.000000   \n",
            "2     0.011696  0.000000  0.005848  0.000000  0.0  0.005848  0.000000   \n",
            "3     0.000000  0.000000  0.020833  0.000000  0.0  0.000000  0.010417   \n",
            "4     0.000000  0.000000  0.034483  0.000000  0.0  0.000000  0.000000   \n",
            "...        ...       ...       ...       ...  ...       ...       ...   \n",
            "4075  0.000000  0.016667  0.000000  0.000000  0.0  0.000000  0.000000   \n",
            "4076  0.000000  0.000000  0.000000  0.000000  0.0  0.000000  0.000000   \n",
            "4077  0.014925  0.000000  0.000000  0.000000  0.0  0.000000  0.000000   \n",
            "4078  0.000000  0.017544  0.017544  0.000000  0.0  0.000000  0.000000   \n",
            "4079  0.017241  0.000000  0.000000  0.000000  0.0  0.000000  0.000000   \n",
            "\n",
            "            F8        F9       F10  ...      F192      F193      F194  \\\n",
            "0     0.020134  0.020134  0.000000  ...  0.013423  0.000000  0.006711   \n",
            "1     0.021739  0.014493  0.000000  ...  0.007246  0.007246  0.000000   \n",
            "2     0.035088  0.017544  0.017544  ...  0.005848  0.000000  0.005848   \n",
            "3     0.000000  0.020833  0.000000  ...  0.010417  0.000000  0.000000   \n",
            "4     0.000000  0.034483  0.000000  ...  0.017241  0.000000  0.000000   \n",
            "...        ...       ...       ...  ...       ...       ...       ...   \n",
            "4075  0.000000  0.000000  0.000000  ...  0.000000  0.000000  0.000000   \n",
            "4076  0.000000  0.000000  0.000000  ...  0.000000  0.000000  0.000000   \n",
            "4077  0.000000  0.000000  0.000000  ...  0.014925  0.000000  0.000000   \n",
            "4078  0.000000  0.000000  0.000000  ...  0.017544  0.000000  0.000000   \n",
            "4079  0.000000  0.000000  0.000000  ...  0.017241  0.000000  0.000000   \n",
            "\n",
            "          F195      F196      F197      F198      F199      F200  Class  \n",
            "0     0.013423  0.020134  0.006711  0.000000  0.006711  0.000000      1  \n",
            "1     0.000000  0.014493  0.000000  0.000000  0.007246  0.000000      1  \n",
            "2     0.011696  0.035088  0.005848  0.000000  0.000000  0.000000      1  \n",
            "3     0.041667  0.000000  0.000000  0.000000  0.000000  0.000000      1  \n",
            "4     0.068966  0.000000  0.000000  0.000000  0.000000  0.000000      1  \n",
            "...        ...       ...       ...       ...       ...       ...    ...  \n",
            "4075  0.000000  0.000000  0.000000  0.016667  0.000000  0.033333      5  \n",
            "4076  0.000000  0.000000  0.000000  0.017857  0.000000  0.035714      5  \n",
            "4077  0.000000  0.000000  0.000000  0.014925  0.000000  0.029851      5  \n",
            "4078  0.000000  0.000000  0.000000  0.017544  0.000000  0.035088      5  \n",
            "4079  0.000000  0.000000  0.000000  0.017241  0.000000  0.034483      5  \n",
            "\n",
            "[4080 rows x 201 columns]>\n"
          ]
        },
        {
          "output_type": "display_data",
          "data": {
            "text/plain": [
              "<Figure size 1800x576 with 0 Axes>"
            ]
          },
          "metadata": {}
        }
      ]
    },
    {
      "cell_type": "markdown",
      "source": [
        "Bisa dilihat tabel-tabel di atas bahwa didapatkan banyak sekali kolom data (atribut). Bisa ditarik sebuah kesimpulan bahwa akan ada kesulitan dalam memproses data sebanyak itu."
      ],
      "metadata": {
        "id": "MQIqrc3F4vp4"
      }
    },
    {
      "cell_type": "markdown",
      "source": [
        "## Pre-Processing"
      ],
      "metadata": {
        "id": "LRYkZV_l5Gsm"
      }
    },
    {
      "cell_type": "markdown",
      "source": [
        "### Outlier Detection"
      ],
      "metadata": {
        "id": "00nCra6-_bwM"
      }
    },
    {
      "cell_type": "markdown",
      "source": [
        "Dilakukan karena ada banyak sekali data, supaya cepat diproses bisa menggunakan outlier detection."
      ],
      "metadata": {
        "id": "n7ytmWZM_gIG"
      }
    },
    {
      "cell_type": "code",
      "source": [
        "z_scores = stats.zscore(df)\n",
        "z_scores"
      ],
      "metadata": {
        "id": "lLtaah_r7HGo"
      },
      "execution_count": null,
      "outputs": []
    },
    {
      "cell_type": "code",
      "source": [
        "abs_z_scores = np.abs(z_scores)\n",
        "filtered_entries = (abs_z_scores < 3).all(axis=1)\n",
        "df_wo_outliers = df[filtered_entries]"
      ],
      "metadata": {
        "id": "PxQcIgsG7MuS"
      },
      "execution_count": null,
      "outputs": []
    },
    {
      "cell_type": "code",
      "source": [
        "df_wo_outliers.shape"
      ],
      "metadata": {
        "id": "cXX3SVKO7XRd"
      },
      "execution_count": null,
      "outputs": []
    },
    {
      "cell_type": "code",
      "source": [
        "df_wo_outliers"
      ],
      "metadata": {
        "id": "aZzfbWyV8AXL"
      },
      "execution_count": null,
      "outputs": []
    },
    {
      "cell_type": "markdown",
      "source": [
        "### Feature Selection dengan Univariate"
      ],
      "metadata": {
        "id": "SBbtxON_EGDY"
      }
    },
    {
      "cell_type": "code",
      "source": [
        "X = df_wo_outliers.drop(['Class'], axis=1)\n",
        "y = df_wo_outliers['Class']\n",
        "\n",
        "uni = SelectKBest(score_func = f_classif, k = 10)\n",
        "fit = uni.fit(X, y)"
      ],
      "metadata": {
        "id": "EgRMoaQm82Fj"
      },
      "execution_count": null,
      "outputs": []
    },
    {
      "cell_type": "code",
      "source": [
        "X.columns[fit.get_support(indices=True)].tolist()"
      ],
      "metadata": {
        "id": "wY1IYUwC9OWa"
      },
      "execution_count": null,
      "outputs": []
    },
    {
      "cell_type": "code",
      "source": [
        "df_wo_outliers = df_wo_outliers[['F47', 'F72', 'F80', 'F92', 'F102', 'F110', 'F132', 'F145', 'F163', 'F186', 'Class']]"
      ],
      "metadata": {
        "id": "5Olz0mXz_Bjv"
      },
      "execution_count": null,
      "outputs": []
    },
    {
      "cell_type": "markdown",
      "source": [
        "### Feature Selection dengan HeatMap"
      ],
      "metadata": {
        "id": "LfrP0Q9aCbv-"
      }
    },
    {
      "cell_type": "code",
      "source": [
        "plt.figure(figsize=(10,10))\n",
        "sns.heatmap(df_wo_outliers.corr(), annot=True,cmap='Reds')\n",
        "plt.title(\"Correlation Matrix\")"
      ],
      "metadata": {
        "id": "XCEXdw06_Fzj"
      },
      "execution_count": null,
      "outputs": []
    },
    {
      "cell_type": "markdown",
      "source": [
        "Bisa dilihat di heatmap di atas bahwa urutan korelasi masing-masing kolom dengan Class adalah seperti berikut :\n",
        "*   F92 -(0.37)\n",
        "*   F102 -(0.36)\n",
        "*   F132 (0.29) & F163 -(0.29)\n",
        "*   F110 (0.28)\n",
        "*   F47 (0.25) & F186 (0.25)\n",
        "*   F72 (0.18) & F145 (0.18)\n",
        "*   F80 -(0.065)\n",
        "\n",
        "Setelah dicoba-coba dengan metode KNN di bawah, didapatkan bahwa akurasi tertinggi terjadi saat 5 yang terendah dihapus."
      ],
      "metadata": {
        "id": "Z7tEDKxyCY0l"
      }
    },
    {
      "cell_type": "code",
      "source": [
        "new_X = df_wo_outliers.drop(['F47', 'F72', 'F80', 'F145', 'F186', 'Class'], axis=1)\n",
        "new_y = df_wo_outliers['Class']"
      ],
      "metadata": {
        "id": "kOztrtzN9YjL"
      },
      "execution_count": null,
      "outputs": []
    },
    {
      "cell_type": "code",
      "source": [
        "print(new_X.shape)\n",
        "print(new_y.shape)"
      ],
      "metadata": {
        "id": "lmeON8d1InZ8"
      },
      "execution_count": null,
      "outputs": []
    },
    {
      "cell_type": "code",
      "source": [
        "X_train, X_test, y_train, y_test = train_test_split(new_X, new_y, test_size=0.2, random_state=0)"
      ],
      "metadata": {
        "id": "xqqr3rmxH6gc"
      },
      "execution_count": null,
      "outputs": []
    },
    {
      "cell_type": "code",
      "source": [
        "print(X_train.shape)\n",
        "print(X_test.shape)"
      ],
      "metadata": {
        "id": "3D6aEej7IBxg"
      },
      "execution_count": null,
      "outputs": []
    },
    {
      "cell_type": "markdown",
      "source": [
        "## Machine Learning Method"
      ],
      "metadata": {
        "id": "_HIyvTqoJJpn"
      }
    },
    {
      "cell_type": "markdown",
      "source": [
        "### K-Nearest Neighbor"
      ],
      "metadata": {
        "id": "qnR5uj4rLDK1"
      }
    },
    {
      "cell_type": "code",
      "source": [
        "for i in range(2,13):\n",
        "    labels=cluster.KMeans(n_clusters=i,init=\"k-means++\", random_state=200).fit(df_wo_outliers).labels_\n",
        "    print (\"Silhouette score for k(clusters) = \"+str(i)+\" is \"\n",
        "           +str(metrics.silhouette_score(df_wo_outliers, labels,metric=\"euclidean\", sample_size=1000, random_state=200)))"
      ],
      "metadata": {
        "id": "kuBzm179Liv9"
      },
      "execution_count": null,
      "outputs": []
    },
    {
      "cell_type": "markdown",
      "source": [
        "k optimal adalah 5"
      ],
      "metadata": {
        "id": "tUWjYW2HMp7T"
      }
    },
    {
      "cell_type": "code",
      "source": [
        "knn = KNeighborsClassifier(n_neighbors=5)\n",
        "knn.fit(X_train, y_train)\n",
        "y_pred = knn.predict(X_test)\n",
        "print(classification_report(y_test, y_pred))"
      ],
      "metadata": {
        "id": "EWwwxOfiJf9P"
      },
      "execution_count": null,
      "outputs": []
    },
    {
      "cell_type": "markdown",
      "source": [
        "### SVM with Linear Kernel"
      ],
      "metadata": {
        "id": "ENGHuBw9NHFn"
      }
    },
    {
      "cell_type": "code",
      "source": [
        "svc_pipe = Pipeline([('scaler', StandardScaler()), ('svc', SVC())])"
      ],
      "metadata": {
        "id": "bONG-SA_NKbF"
      },
      "execution_count": null,
      "outputs": []
    },
    {
      "cell_type": "code",
      "source": [
        "svc_lin_params = {'svc__C': [0.01, 0.1, 1, 10], 'svc__kernel': ['linear']}"
      ],
      "metadata": {
        "id": "qSMzTcBmNVhf"
      },
      "execution_count": null,
      "outputs": []
    },
    {
      "cell_type": "code",
      "source": [
        "svc_lin = GridSearchCV(svc_pipe, svc_lin_params, n_jobs=-1)"
      ],
      "metadata": {
        "id": "JXxnq_EqNaxZ"
      },
      "execution_count": null,
      "outputs": []
    },
    {
      "cell_type": "code",
      "source": [
        "svc_lin.fit(X_train, y_train)"
      ],
      "metadata": {
        "id": "w_-oodqaNdWB"
      },
      "execution_count": null,
      "outputs": []
    },
    {
      "cell_type": "code",
      "source": [
        "svc_lin.best_params_"
      ],
      "metadata": {
        "id": "j0yoGY_mNgRi"
      },
      "execution_count": null,
      "outputs": []
    },
    {
      "cell_type": "code",
      "source": [
        "lin_pred = svc_lin.predict(X_test)"
      ],
      "metadata": {
        "id": "ghSKlI4_Nidm"
      },
      "execution_count": null,
      "outputs": []
    },
    {
      "cell_type": "code",
      "source": [
        "print(classification_report(y_test, lin_pred))"
      ],
      "metadata": {
        "id": "OkXMPvRhNkBM"
      },
      "execution_count": null,
      "outputs": []
    },
    {
      "cell_type": "markdown",
      "source": [
        "## Evaluation & Comparison"
      ],
      "metadata": {
        "id": "vft-gt8ONvXD"
      }
    },
    {
      "cell_type": "markdown",
      "source": [
        "### Comparison"
      ],
      "metadata": {
        "id": "aJm_bVRNOWU1"
      }
    },
    {
      "cell_type": "code",
      "source": [
        "print(classification_report(y_test, y_pred))"
      ],
      "metadata": {
        "id": "_igJr9UQNu9N"
      },
      "execution_count": null,
      "outputs": []
    },
    {
      "cell_type": "code",
      "source": [
        "print(classification_report(y_test, lin_pred))"
      ],
      "metadata": {
        "id": "A_Qz38LwN7EG"
      },
      "execution_count": null,
      "outputs": []
    },
    {
      "cell_type": "markdown",
      "source": [
        "### Evaluation / Conclusion"
      ],
      "metadata": {
        "id": "UCDjB9DIOTAJ"
      }
    },
    {
      "cell_type": "markdown",
      "source": [
        "Dari kedua hasil di atas, bisa disimpulkan bahwa akurasi menggunakan KNN lebih baik dengan skor 0.64 dibandingkan Support Vector Machine (SVM) dengan kernel Linear yang mempunyai skor 0.59."
      ],
      "metadata": {
        "id": "t9iBrQCjN85k"
      }
    }
  ]
}